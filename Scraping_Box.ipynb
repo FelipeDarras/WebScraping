{
 "cells": [
  {
   "cell_type": "markdown",
   "metadata": {},
   "source": [
    "# Dentro de una página web, obtener texto alojado en un box"
   ]
  },
  {
   "cell_type": "code",
   "execution_count": 29,
   "metadata": {},
   "outputs": [],
   "source": [
    "from bs4 import BeautifulSoup\n",
    "import requests\n",
    "\n",
    "\n",
    "# Obtengo HTML\n",
    "url = 'https://subslikescript.com/movie/Titanic-120338'\n",
    "result = requests.get(url)\n",
    "contenido = result.text\n",
    "soup = BeautifulSoup(contenido, 'lxml')\n",
    "#print(soup.prettify())\n",
    "\n",
    "# Localizo el box que tiene el texto a scrapear\n",
    "box = soup.find('article', class_='main-article')\n",
    "#  Transcript\n",
    "title = box.find('h1').get_text()\n",
    "transcript = box.find('div', class_='full-script').get_text(strip=True, separator=' ')\n",
    "\n",
    "# Exportar data con el mismo titulo.\n",
    "with open(f'{title}.txt', 'w') as file:\n",
    "    file.write(transcript)\n"
   ]
  },
  {
   "cell_type": "code",
   "execution_count": 30,
   "metadata": {},
   "outputs": [],
   "source": [
    "archivo = open(r'C:\\Users\\FELIPE\\Desktop\\Data\\Texto_Scrapeado.txt', 'w')\n",
    "contenido = transcript\n",
    "archivo.write(contenido)\n",
    "archivo.close()"
   ]
  },
  {
   "cell_type": "code",
   "execution_count": 31,
   "metadata": {},
   "outputs": [
    {
     "data": {
      "text/plain": [
       "\"13 meters. You should see it. Okay, take her up and over the bow rail. Mir 2, we're going over the bow.\\nStay with us. Okay, quiet. We're rolling. Seeing her coming out of the\\ndarkness like a ghost ship... ...still gets me every time. To see the sad ruin of the\\ngreat ship sitting here... ...where she landed at\\n2:30 in the morning Of April 15, 1912 ...after her long fall... ...from the world above. You are so full of shit, boss. Dive 6\""
      ]
     },
     "execution_count": 31,
     "metadata": {},
     "output_type": "execute_result"
    }
   ],
   "source": [
    "archivo = open(r'C:\\Users\\FELIPE\\Desktop\\Data\\Texto_Scrapeado.txt', 'r')\n",
    "txt = archivo.read()\n",
    "txt[:437]"
   ]
  }
 ],
 "metadata": {
  "kernelspec": {
   "display_name": "Python 3.10.4 64-bit",
   "language": "python",
   "name": "python3"
  },
  "language_info": {
   "codemirror_mode": {
    "name": "ipython",
    "version": 3
   },
   "file_extension": ".py",
   "mimetype": "text/x-python",
   "name": "python",
   "nbconvert_exporter": "python",
   "pygments_lexer": "ipython3",
   "version": "3.10.4"
  },
  "orig_nbformat": 4,
  "vscode": {
   "interpreter": {
    "hash": "369f2c481f4da34e4445cda3fffd2e751bd1c4d706f27375911949ba6bb62e1c"
   }
  }
 },
 "nbformat": 4,
 "nbformat_minor": 2
}
